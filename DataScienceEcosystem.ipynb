{
 "cells": [
  {
   "cell_type": "markdown",
   "id": "08ee07f2",
   "metadata": {},
   "source": [
    "# Data Science Tools and Ecosystem\n"
   ]
  },
  {
   "cell_type": "markdown",
   "id": "d75fa46c",
   "metadata": {},
   "source": [
    "In this notebook, Data Science Tools and Ecosystem are summarized."
   ]
  },
  {
   "cell_type": "markdown",
   "id": "257714d6",
   "metadata": {},
   "source": [
    "__Objectives:__\n",
    "\n",
    "__The capabilities of R and its uses in Data Science.__\n",
    "__Repositories are storage structures that:__\n",
    "\n",
    "__Store the code__\n",
    "\n",
    "__Track issues and changes__\n",
    "\n",
    "__Enable you to collaborate with others__\n",
    "\n",
    "\n",
    "<ul>\n",
    "    <li> Python</li>\n",
    "    <li> R-Studio</li>\n",
    "    <li> SQL </li>\n",
    "</ul>"
   ]
  },
  {
   "cell_type": "markdown",
   "id": "08ea77a3",
   "metadata": {},
   "source": [
    "Some of the popular languages that Data Scientist use are:\n",
    "\n",
    "\n",
    "<ol>    \n",
    "    <li>Python</li>\n",
    "    <li>R</li>\n",
    "    <li>SQL</li>\n",
    "    <li>Scala</li>\n",
    "    <li>Java</li>\n",
    "    <li>C++</li>\n",
    "    <li>Julia</li>\n",
    "    <li>Javascript</li>\n",
    "    <li>Php</li>\n",
    "    <li>Go</li>\n",
    "    <li>Ruby</li>\n",
    "    <li>Visual Basic</li>\n",
    "</ol>"
   ]
  },
  {
   "cell_type": "markdown",
   "id": "a0bc1f04",
   "metadata": {},
   "source": [
    "Some of the popular libraries used by Data Scientist include:\n",
    "\n",
    "<ol>    \n",
    "    <li>Pandas</li>\n",
    "    <li>Numpy</li>\n",
    "    <li>Matplotlib</li>\n",
    "    <li>Seaborn</li>\n",
    "    <li>Scikit-learn</li>\n",
    "    <li>Keras</li>\n",
    "    <li>Tensor Flow</li>\n",
    "    <li>Pytorch</li>\n",
    "    <li>Apache Spark</li>\n",
    "    <li>Vegas</li>\n",
    "    <li>Big DL</li>\n",
    "    <li>ggplot2</li>\n",
    "</ol>"
   ]
  },
  {
   "cell_type": "markdown",
   "id": "f8ff1b09",
   "metadata": {},
   "source": [
    "|Data Science Tools|\n",
    "|:------------------|\n",
    "|Anaconda|\n",
    "|Jupyter Notebooks|\n",
    "|R Studio|\n",
    "|Spyder|\n",
    "|Zeppelin|\n"
   ]
  },
  {
   "cell_type": "markdown",
   "id": "b3f40db0",
   "metadata": {},
   "source": [
    "### Below are a few examples of evaluating arithmetic in Python\n"
   ]
  },
  {
   "cell_type": "code",
   "execution_count": 23,
   "id": "3a1ca6e0",
   "metadata": {},
   "outputs": [
    {
     "data": {
      "text/plain": [
       "17"
      ]
     },
     "execution_count": 23,
     "metadata": {},
     "output_type": "execute_result"
    }
   ],
   "source": [
    "##This a simple arithmetic expression to mutiply then add integers\n",
    "(3*4)+5\n"
   ]
  },
  {
   "cell_type": "code",
   "execution_count": 2,
   "id": "3d055fc1",
   "metadata": {},
   "outputs": [
    {
     "name": "stdout",
     "output_type": "stream",
     "text": [
      "hora: 3.3333333333333335\n"
     ]
    }
   ],
   "source": [
    "##This will convert 200 minutes to hours by diving by 60\n",
    "\n",
    "minutos = int(200)\n",
    "hora = float (minutos/60)\n",
    "print('hora:', hora)"
   ]
  },
  {
   "cell_type": "markdown",
   "id": "1d3e3ef6",
   "metadata": {},
   "source": [
    "## Author: \n",
    "Rodrigo Báez Sosa"
   ]
  }
 ],
 "metadata": {
  "kernelspec": {
   "display_name": "Python 3 (ipykernel)",
   "language": "python",
   "name": "python3"
  },
  "language_info": {
   "codemirror_mode": {
    "name": "ipython",
    "version": 3
   },
   "file_extension": ".py",
   "mimetype": "text/x-python",
   "name": "python",
   "nbconvert_exporter": "python",
   "pygments_lexer": "ipython3",
   "version": "3.11.5"
  }
 },
 "nbformat": 4,
 "nbformat_minor": 5
}
